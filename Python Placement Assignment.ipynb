{
 "cells": [
  {
   "cell_type": "code",
   "execution_count": 1,
   "id": "041d6c1b",
   "metadata": {},
   "outputs": [],
   "source": [
    "#create a function in python to read the text file and replace specific content of the file"
   ]
  },
  {
   "cell_type": "code",
   "execution_count": 11,
   "id": "d5eb3e05",
   "metadata": {},
   "outputs": [],
   "source": [
    "\n",
    "try:\n",
    "    def replacetext():\n",
    "        \n",
    "        f = open(\"example.txt\", \"w\")\n",
    "        f.write(\"This is a placement assignment\")\n",
    "        f = open(\"example.txt\", \"r\")\n",
    "        l = f.read()\n",
    "        l = l.replace(\"placement\",\"screening\")\n",
    "        f.close()\n",
    "        f = open(\"example.txt\", \"w\")\n",
    "        f.write(l)\n",
    "        f.close()\n",
    "        return \"text succesfully replaced\", l\n",
    "       \n",
    "except Exception as e:\n",
    "    print(\"you did not replace text correctly\")\n",
    "    \n"
   ]
  },
  {
   "cell_type": "code",
   "execution_count": 12,
   "id": "d9736f7e",
   "metadata": {},
   "outputs": [
    {
     "data": {
      "text/plain": [
       "('text succesfully replaced', 'This is a screening assignment')"
      ]
     },
     "execution_count": 12,
     "metadata": {},
     "output_type": "execute_result"
    }
   ],
   "source": [
    "replacetext()"
   ]
  },
  {
   "cell_type": "markdown",
   "id": "2ec6e045",
   "metadata": {},
   "source": [
    "\n",
    "# DECORATORS \n"
   ]
  },
  {
   "cell_type": "markdown",
   "id": "745fce0e",
   "metadata": {},
   "source": [
    "In decorators we basically say that inside a function we can aslo give parameter as a function instead of a specific variable\n"
   ]
  },
  {
   "cell_type": "code",
   "execution_count": 4,
   "id": "d23ef950",
   "metadata": {},
   "outputs": [],
   "source": [
    "\n",
    "def main_exam(func):\n",
    "    \n",
    "    def exam_form():\n",
    "        print(\"Your Main Exam Starts From 10th June\")\n",
    "        func()\n",
    "        print(\"Start Filling Exam Form\")\n",
    "    return exam_form()"
   ]
  },
  {
   "cell_type": "code",
   "execution_count": 6,
   "id": "7a01d368",
   "metadata": {},
   "outputs": [
    {
     "name": "stdout",
     "output_type": "stream",
     "text": [
      "Your Main Exam Starts From 10th June\n",
      "subjects are Hindi,English,Math,Geography,Science\n",
      "Start Filling Exam Form\n"
     ]
    }
   ],
   "source": [
    "@main_exam\n",
    "def sub_name():\n",
    "    print(\"subjects are Hindi,English,Math,Geography,Science\")"
   ]
  },
  {
   "cell_type": "markdown",
   "id": "9dd704a1",
   "metadata": {},
   "source": [
    "# Multiple Inheritance"
   ]
  },
  {
   "cell_type": "code",
   "execution_count": 7,
   "id": "645f144d",
   "metadata": {},
   "outputs": [],
   "source": [
    "class A:\n",
    "    def method1(self):\n",
    "        print(\"A class method is called\")"
   ]
  },
  {
   "cell_type": "code",
   "execution_count": 8,
   "id": "25a6ab5f",
   "metadata": {},
   "outputs": [],
   "source": [
    "class B(A):\n",
    "    def method1(self):\n",
    "        print(\"B class method is called\")\n",
    "    def method2(self):\n",
    "        print(\"B class method is called\")"
   ]
  },
  {
   "cell_type": "code",
   "execution_count": 9,
   "id": "d179c385",
   "metadata": {},
   "outputs": [],
   "source": [
    "class C(A):\n",
    "    def method1(self):\n",
    "        print(\"C class method is called\")"
   ]
  },
  {
   "cell_type": "code",
   "execution_count": 10,
   "id": "c83634c8",
   "metadata": {},
   "outputs": [],
   "source": [
    "class D(B,C):\n",
    "    def method1(self):\n",
    "        print(\"D class method is called\")\n",
    "        C.method1(self)\n",
    "        B.method1(self)\n",
    "        A.method1(self)"
   ]
  },
  {
   "cell_type": "code",
   "execution_count": 11,
   "id": "2e982ad6",
   "metadata": {},
   "outputs": [],
   "source": [
    "d = D()"
   ]
  },
  {
   "cell_type": "code",
   "execution_count": 12,
   "id": "81738491",
   "metadata": {},
   "outputs": [
    {
     "name": "stdout",
     "output_type": "stream",
     "text": [
      "D class method is called\n",
      "C class method is called\n",
      "B class method is called\n",
      "A class method is called\n"
     ]
    }
   ],
   "source": [
    "d.method1()"
   ]
  },
  {
   "cell_type": "code",
   "execution_count": 13,
   "id": "332b47db",
   "metadata": {},
   "outputs": [
    {
     "name": "stdout",
     "output_type": "stream",
     "text": [
      "B class method is called\n"
     ]
    }
   ],
   "source": [
    "#method2 of class B\n",
    "d.method2()"
   ]
  },
  {
   "cell_type": "code",
   "execution_count": 14,
   "id": "3f6e1cd7",
   "metadata": {},
   "outputs": [
    {
     "name": "stdout",
     "output_type": "stream",
     "text": [
      "B class method is called\n"
     ]
    }
   ],
   "source": [
    "## call class B method 1\n",
    "B.method1(d)"
   ]
  },
  {
   "cell_type": "code",
   "execution_count": 15,
   "id": "6ac1ca9c",
   "metadata": {},
   "outputs": [
    {
     "name": "stdout",
     "output_type": "stream",
     "text": [
      "A class method is called\n"
     ]
    }
   ],
   "source": [
    "## call class B method 1\n",
    "A.method1(d)"
   ]
  },
  {
   "cell_type": "markdown",
   "id": "fe8f5e29",
   "metadata": {},
   "source": [
    "# Abstraction\n"
   ]
  },
  {
   "cell_type": "markdown",
   "id": "5a3d3633",
   "metadata": {},
   "source": [
    "A class is called an Abstract class if it contains one or more abstract methods. An abstract method is a method that is declared, but contains no implementation. Abstract classes may not be instantiated, and its abstract methods must be implemented by its subclasses"
   ]
  },
  {
   "cell_type": "code",
   "execution_count": 16,
   "id": "30c94c06",
   "metadata": {},
   "outputs": [],
   "source": [
    "from abc import ABC, abstractmethod"
   ]
  },
  {
   "cell_type": "code",
   "execution_count": 17,
   "id": "d0e262ae",
   "metadata": {},
   "outputs": [],
   "source": [
    "class car(ABC):\n",
    "    def mileage(self):\n",
    "        pass\n",
    "    \n",
    "class Tiago(car):\n",
    "    def mileage(self):\n",
    "        print(\"The milege is 25 kmph\")\n",
    "        \n",
    "class Alto(car):\n",
    "    def mileage(self):\n",
    "        print(\"The milege is 30 kmph\")\n",
    "        \n",
    "class Altros(car):\n",
    "    def mileage(self):\n",
    "        print(\"The milege is 25 kmph\")\n",
    "        \n",
    "class Fortuner(car):\n",
    "    def mileage(self):\n",
    "        print(\"The milege is 11 kmph\")"
   ]
  },
  {
   "cell_type": "code",
   "execution_count": 18,
   "id": "397da45c",
   "metadata": {},
   "outputs": [
    {
     "name": "stdout",
     "output_type": "stream",
     "text": [
      "The milege is 25 kmph\n",
      "The milege is 30 kmph\n",
      "The milege is 25 kmph\n",
      "The milege is 11 kmph\n"
     ]
    }
   ],
   "source": [
    "t= Tiago()   \n",
    "t.mileage()   \n",
    "  \n",
    "a = Alto()   \n",
    "a.mileage()   \n",
    "  \n",
    "a1 = Altros()   \n",
    "a1.mileage() \n",
    "\n",
    "f = Fortuner()   \n",
    "f.mileage()  "
   ]
  },
  {
   "cell_type": "code",
   "execution_count": null,
   "id": "f898916c",
   "metadata": {},
   "outputs": [],
   "source": []
  }
 ],
 "metadata": {
  "kernelspec": {
   "display_name": "Python 3 (ipykernel)",
   "language": "python",
   "name": "python3"
  },
  "language_info": {
   "codemirror_mode": {
    "name": "ipython",
    "version": 3
   },
   "file_extension": ".py",
   "mimetype": "text/x-python",
   "name": "python",
   "nbconvert_exporter": "python",
   "pygments_lexer": "ipython3",
   "version": "3.9.7"
  }
 },
 "nbformat": 4,
 "nbformat_minor": 5
}
